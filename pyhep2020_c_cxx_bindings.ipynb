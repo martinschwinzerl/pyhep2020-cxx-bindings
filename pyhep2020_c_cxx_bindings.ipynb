{
 "cells": [
  {
   "cell_type": "markdown",
   "metadata": {
    "slideshow": {
     "slide_type": "slide"
    }
   },
   "source": [
    "# Some Constraints For This Talk\n",
    "\n",
    "- <b>Goal: Provide context for the following talk</b>\n",
    "- Written from the user-perspective of tools and packages such as \n",
    "    - pybind11 \n",
    "    - scikit-build\n",
    "    - ctypes\n",
    "    - cmake\n",
    "    - ...\n",
    "- <b>&rightarrow; Feedback would be very much appreciated</b>\n",
    "\n",
    "- Idea: explain how to provide Python bindings for C/C++ libraries; The git repository contains complete and self-contained examples which should work with minimal external dependencies for reference\n",
    "\n",
    "\n",
    "    "
   ]
  },
  {
   "cell_type": "code",
   "execution_count": 1,
   "metadata": {
    "slideshow": {
     "slide_type": "subslide"
    }
   },
   "outputs": [],
   "source": [
    "import os\n",
    "initial_wd = os.getcwd()\n",
    "\n",
    "# define some helper functions\n",
    "%run helpers.py"
   ]
  },
  {
   "cell_type": "markdown",
   "metadata": {
    "slideshow": {
     "slide_type": "slide"
    }
   },
   "source": [
    "## First Example: Binding To C Functions using <tt>ctypes</tt>\n",
    "\n",
    "Let's start with a simple, pure C99, shared library <tt>libqgauss.so</tt>. \n",
    "It provides a set of functions for calculating <a href=\"https://en.wikipedia.org/wiki/Q-Gaussian_distribution\">Q-Gaussian</a> distributions in <tt>double</tt> precision"
   ]
  },
  {
   "cell_type": "code",
   "execution_count": 2,
   "metadata": {
    "slideshow": {
     "slide_type": "fragment"
    }
   },
   "outputs": [
    {
     "name": "stdout",
     "output_type": "stream",
     "text": [
      "00_qgauss/\n",
      "    .gitignore\n",
      "    CMakeLists.txt\n",
      "    src/\n",
      "        qgauss.h\n",
      "        qgauss.c\n",
      "        definitions.h\n"
     ]
    }
   ],
   "source": [
    "os.chdir( initial_wd )\n",
    "list_dir_tree( './00_qgauss', allow=[\"src\"] )"
   ]
  },
  {
   "cell_type": "markdown",
   "metadata": {
    "slideshow": {
     "slide_type": "subslide"
    }
   },
   "source": [
    "The library is build using <a href=\"https://cmake.org/\">CMake</a>\n",
    "\n",
    "```CMake\n",
    "cmake_minimum_required( VERSION 3.8 )\n",
    "\n",
    "project( qgauss-c99 VERSION \"1.0.0\" LANGUAGES C\n",
    "    DESCRIPTION \"minimal c99 library for calculating q-gaussian distributions\" )\n",
    "\n",
    "set( QGAUSS_HEADERS src/definitions.h src/qgauss.h )\n",
    "set( QGAUSS_SOURCES src/qgauss.c )\n",
    "\n",
    "add_library( qgauss SHARED ${QGAUSS_HEADERS} ${QGAUSS_SOURCES} )\n",
    "\n",
    "target_include_directories(\n",
    "    qgauss PUBLIC $<BUILD_INTERFACE:${CMAKE_SOURCE_DIR}/src> )\n",
    "\n",
    "set_target_properties( qgauss PROPERTIES\n",
    "    LINKER_LANGUAGE C\n",
    "    POSITION_INDEPENDENT_CODE ON\n",
    "    C_STANDARD 99\n",
    "    C_STANDARD_REQUIRED ON )\n",
    "```"
   ]
  },
  {
   "cell_type": "code",
   "execution_count": 3,
   "metadata": {
    "slideshow": {
     "slide_type": "subslide"
    }
   },
   "outputs": [
    {
     "name": "stdout",
     "output_type": "stream",
     "text": [
      "-- Configuring done\r\n",
      "-- Generating done\r\n",
      "-- Build files have been written to: /home/martin/temp/pyhep2020/pyhep2020-cxx-bindings/00_qgauss/build\r\n"
     ]
    }
   ],
   "source": [
    "# Lets build the library using cmake:\n",
    "# First, create an out-of-tree build directory if it does not already exist:\n",
    "os.chdir( initial_wd )\n",
    "if not os.path.exists( \"00_qgauss/build\" ):\n",
    "    os.mkdir( \"00_qgauss/build\" )\n",
    "\n",
    "# Move to the build directory and configure the project:\n",
    "os.chdir( '00_qgauss/build/' ) \n",
    "!cmake .. -DCMAKE_BUILD_TYPE=Release -G \"Unix Makefiles\"\n",
    "    "
   ]
  },
  {
   "cell_type": "code",
   "execution_count": 4,
   "metadata": {
    "slideshow": {
     "slide_type": "subslide"
    }
   },
   "outputs": [
    {
     "name": "stdout",
     "output_type": "stream",
     "text": [
      "[100%] Built target qgauss\r\n"
     ]
    }
   ],
   "source": [
    "# compile the library\n",
    "!make -j\n",
    "os.chdir( initial_wd )"
   ]
  },
  {
   "cell_type": "markdown",
   "metadata": {
    "slideshow": {
     "slide_type": "subslide"
    }
   },
   "source": [
    "Among the API of the library we just compiled is a function to calculate a gaussian distribution\n",
    "$$\\Psi(x) = \\frac{1}{\\sqrt{2\\cdot \\pi\\cdot \\sigma^2}} \\cdot exp( -\\frac{(x-\\mu)^2}{2 \\cdot \\sigma^2} )$$\n",
    "\n",
    "```C\n",
    "/* from 00_qgauss/src/qgauss.h: */\n",
    "#ifndef QGAUSS_H__\n",
    "#define QGAUSS_H__\n",
    "\n",
    "/* Note: definitions in actual headers use lots of macros -> omitted here for clarity */    \n",
    "/* ... */\n",
    "\n",
    "extern double qgauss_gauss( double const x, double const sigma, double const mu );\n",
    "    \n",
    "/* ... */\n",
    "``` "
   ]
  },
  {
   "cell_type": "markdown",
   "metadata": {
    "slideshow": {
     "slide_type": "subslide"
    }
   },
   "source": [
    "We use the <a href=\"https://docs.python.org/3/library/ctypes.html\"><tt>ctypes</tt></a> library from the python standard library to make this function available to Python:"
   ]
  },
  {
   "cell_type": "code",
   "execution_count": 5,
   "metadata": {
    "slideshow": {
     "slide_type": "fragment"
    }
   },
   "outputs": [],
   "source": [
    "import ctypes as ct\n",
    "clib_path = find_dynamic_library( \"qgauss\", \"00_qgauss/build\" ) #from helpers.py\n",
    "\n",
    "clib = ct.CDLL( clib_path )"
   ]
  },
  {
   "cell_type": "code",
   "execution_count": 6,
   "metadata": {
    "slideshow": {
     "slide_type": "fragment"
    }
   },
   "outputs": [],
   "source": [
    "# create a \"handle\" for the C-function:\n",
    "# C-Signature: double qgauss_gauss( double const x, double const sigma, double const mu );\n",
    "\n",
    "c_gauss_fn = clib.qgauss_gauss\n",
    "c_gauss_fn.argtypes = [ ct.c_double, ct.c_double, ct.c_double ]\n",
    "c_gauss_fn.restype = ct.c_double\n"
   ]
  },
  {
   "cell_type": "code",
   "execution_count": 7,
   "metadata": {
    "slideshow": {
     "slide_type": "subslide"
    }
   },
   "outputs": [
    {
     "data": {
      "text/plain": [
       "[<matplotlib.lines.Line2D at 0x7f4ec6b2a160>]"
      ]
     },
     "execution_count": 7,
     "metadata": {},
     "output_type": "execute_result"
    },
    {
     "data": {
      "image/png": "[encoded data removed]",
      "text/plain": [
       "<Figure size 432x288 with 1 Axes>"
      ]
     },
     "metadata": {
      "needs_background": "light"
     },
     "output_type": "display_data"
    }
   ],
   "source": [
    "# We can call c_gauss_fn if we wrap the arguments using the correct ctypes - types:\n",
    "import numpy as np \n",
    "from matplotlib import pyplot as plt\n",
    "\n",
    "mu_arg = ct.c_double( 0.0 )\n",
    "sigma_arg = ct.c_double( 1.0 )\n",
    "z = np.linspace(-4.0, 4.0, 100, dtype=np.float64)\n",
    "plt.plot( z, [ c_gauss_fn( ct.c_double(zz), sigma_arg, mu_arg ) for zz in z ])\n"
   ]
  },
  {
   "cell_type": "markdown",
   "metadata": {
    "slideshow": {
     "slide_type": "subslide"
    }
   },
   "source": [
    "### Some Comments on <tt>ctypes</tt>\n",
    "While <tt>ctypes</tt> has some things going for it, i.e. \n",
    "- included in the Python standard library since 2.5 &rightarrow; always available\n",
    "- some python libraries have interfaces to ctypes to allow easier integration with numpy, scipy, etc. \n",
    "- supports functions, custom types (structs, unions), pointers and arrays, ...\n",
    "- no header or code generator required, works with just the shared library \n",
    "- moreover, the library can be compiled without any knowledge about Python &rightarrow; Full control over compile options, toolchains, etc. \n",
    "\n",
    "there are some major drawbacks which, depending on the application, can be quite prohibitive:\n",
    "- Only supports C interfaces\n",
    "- If the API / signatures change on the C side (incl. alignment, member order, etc.), things can break quite spectacularily &rightarrow; brittle, maintenance intensive code\n",
    "- Any constraints encoded in the const-ness of the C interfaces gets lost in the mix\n",
    "- There is no way to code against <tt>ctypes</tt> from native C &rightarrow; all the heavy lifting has to be done in python\n",
    "\n",
    "&rightarrow; not suitable for \"hot-paths\", tight-loops, overhead-sensitive function calls, ..."
   ]
  },
  {
   "cell_type": "code",
   "execution_count": 8,
   "metadata": {
    "slideshow": {
     "slide_type": "subslide"
    }
   },
   "outputs": [],
   "source": [
    "# Re: doing all the heavy lifting in Python .... \n",
    "\n",
    "def nice_gauss(z, sigma=1.0, mu=0.0):\n",
    "    mu_arg = ct.c_double(mu)\n",
    "    sigma_arg = ct.c_double(sigma)\n",
    "    if isinstance(z, float):\n",
    "        return c_gauss_fn(ct.c_double(z), sigma_arg, mu_arg)\n",
    "    else:\n",
    "        return np.array(\n",
    "            [c_gauss_fn(ct.c_double(zz), sigma_arg, mu_arg) for zz in iter(z)],\n",
    "            dtype=np.float64,\n",
    "        )"
   ]
  },
  {
   "cell_type": "code",
   "execution_count": 9,
   "metadata": {
    "slideshow": {
     "slide_type": "fragment"
    }
   },
   "outputs": [
    {
     "data": {
      "text/plain": [
       "0.39894228040143265"
      ]
     },
     "execution_count": 9,
     "metadata": {},
     "output_type": "execute_result"
    }
   ],
   "source": [
    "nice_gauss( 0.0 )"
   ]
  },
  {
   "cell_type": "code",
   "execution_count": 10,
   "metadata": {
    "slideshow": {
     "slide_type": "fragment"
    }
   },
   "outputs": [
    {
     "data": {
      "text/plain": [
       "array([1.33830226e-04, 9.80127961e-04, 5.40105618e-03, 2.23945303e-02,\n",
       "       6.98670761e-02, 1.64010075e-01, 2.89691553e-01, 3.85006875e-01,\n",
       "       3.85006875e-01, 2.89691553e-01, 1.64010075e-01, 6.98670761e-02,\n",
       "       2.23945303e-02, 5.40105618e-03, 9.80127961e-04, 1.33830226e-04])"
      ]
     },
     "execution_count": 10,
     "metadata": {},
     "output_type": "execute_result"
    }
   ],
   "source": [
    "nice_gauss( np.linspace( -4.0, 4.0, 16, dtype=np.float64) )"
   ]
  },
  {
   "cell_type": "markdown",
   "metadata": {
    "slideshow": {
     "slide_type": "slide"
    }
   },
   "source": [
    "## Moving On: Integration With Build System, OO Python Interface\n",
    "\n",
    "- So far, we've only looked into a very minimal C library &rightarrow; no particular constraints on the build system\n",
    "- Exposing all C-Methods to Python &rightarrow; functional Python API\n",
    "\n",
    "<tt>SixTrackLib</tt> is a complex, mixed C/C++ library with hardware- and platform specific dependencies and constraints &rightarrow; complex build system based on <tt>CMake</tt>. We would like to allow python users to use the familiar installation and setup approach, i.e. \n",
    "\n",
    "```Shell\n",
    "python setup.py build\n",
    "python setup.py install\n",
    "``` \n",
    "\n",
    "or \n",
    "\n",
    "```Shell\n",
    "pip install .\n",
    "```\n",
    "\n",
    "while retaining the ability of users of the C/C++ interface to keep any python dependencies optional and perform the build operation similar to what we have seen in our previous minimal example (i.e. \n",
    "\n",
    "```Shell\n",
    "cmake .. \n",
    "make \n",
    "echo \"make test, make install, etc. ... \"\n",
    "``` "
   ]
  },
  {
   "cell_type": "markdown",
   "metadata": {
    "slideshow": {
     "slide_type": "fragment"
    }
   },
   "source": [
    "Additionally, while <tt>SixTrackLib</tt> has a fully supported C-API, for most operations, an object-oriented interface is much nicer to use, especially from Python &rightarrow; How to solve these two issues?"
   ]
  },
  {
   "cell_type": "markdown",
   "metadata": {
    "slideshow": {
     "slide_type": "fragment"
    }
   },
   "source": [
    "## Introducing ldprofile: A Demo Library for modelling Line Density Functions\n",
    "\n",
    "In order to keep these examples manageable, we are demonstrating our approach using a small toy library <tt>ldprofile</tt> &rightarrow; all examples should work without CUDA, OpenCL, etc. . \n",
    "\n",
    "Like <tt>SixTrackLib</tt>, <tt>ldprofile</tt>\n",
    "- implements most of its logic in C++11 \n",
    "- makes use of a templated API which\n",
    "- has a corresponding C-API specialized for the primarily supported types and\n",
    "- uses CMake as its build system\n",
    "\n",
    "<b>Note</b>: While the presented implementation corresponds to features developed for <tt>SixTrackLib</tt>, the actual implementation is not written with performance in mind, just fyi :-)\n"
   ]
  },
  {
   "cell_type": "markdown",
   "metadata": {
    "slideshow": {
     "slide_type": "subslide"
    }
   },
   "source": [
    "<img src=\"99_presentation_data/ldprofile_classes_plots.svg\" alt=\"example line density curves\" />\n",
    "\n",
    "<b>Note:</b> just example plots, y-axis has arbitrary units"
   ]
  },
  {
   "cell_type": "markdown",
   "metadata": {
    "slideshow": {
     "slide_type": "subslide"
    }
   },
   "source": [
    "Corresponding class hierarchy:\n",
    "\n",
    "<img src=\"99_presentation_data/ldprofile_classes.svg\" alt=\"class hierarchy\" />"
   ]
  },
  {
   "cell_type": "markdown",
   "metadata": {
    "slideshow": {
     "slide_type": "fragment"
    }
   },
   "source": [
    "# scikit-build: bridging <tt>CMake</tt> with <tt>setuptools</tt>\n",
    "We are using <a href=\"https://github.com/scikit-build/scikit-build\">scikit-build</a> for organizing the building process. To start gently, let's continue for a moment with <tt>ctypes</tt> "
   ]
  },
  {
   "cell_type": "code",
   "execution_count": 11,
   "metadata": {
    "slideshow": {
     "slide_type": "slide"
    }
   },
   "outputs": [
    {
     "name": "stdout",
     "output_type": "stream",
     "text": [
      "01_ldprofile_ctypes/\n",
      "    .gitignore\n",
      "    CMakeLists.txt\n",
      "    setup.py\n",
      "    pyproject.toml\n",
      "    src/\n",
      "    ldprofile_ctypes/\n",
      "        .gitignore\n",
      "        profile.py\n",
      "        ct_api.py\n",
      "        __init__.py\n",
      "        libldprofile.so\n",
      "        library_helpers.py\n",
      "    examples/\n",
      "        plot_profiles.py\n",
      "        qgauss_dbl_harmonic_data.pkl\n"
     ]
    }
   ],
   "source": [
    "os.chdir( initial_wd )\n",
    "list_dir_tree( './01_ldprofile_ctypes', allow=[\"src\", \"ldprofile_ctypes\", \"examples\"] )"
   ]
  },
  {
   "cell_type": "markdown",
   "metadata": {
    "slideshow": {
     "slide_type": "subslide"
    }
   },
   "source": [
    "Firstly, verify that we can build the project as a regular C/C++ CMake library:"
   ]
  },
  {
   "cell_type": "code",
   "execution_count": 12,
   "metadata": {
    "slideshow": {
     "slide_type": "fragment"
    }
   },
   "outputs": [
    {
     "name": "stdout",
     "output_type": "stream",
     "text": [
      "-- Configuring done\r\n",
      "-- Generating done\r\n",
      "-- Build files have been written to: /home/martin/temp/pyhep2020/pyhep2020-cxx-bindings/01_ldprofile_ctypes/build\r\n"
     ]
    }
   ],
   "source": [
    "os.chdir( initial_wd )\n",
    "if not os.path.exists( \"01_ldprofile_ctypes/build\" ):\n",
    "    os.mkdir( \"01_ldprofile_ctypes/build\" )\n",
    "\n",
    "# Move to the build directory and configure the project:\n",
    "os.chdir( '01_ldprofile_ctypes/build' ) \n",
    "!cmake .. -DCMAKE_BUILD_TYPE=Release -G \"Unix Makefiles\""
   ]
  },
  {
   "cell_type": "code",
   "execution_count": 13,
   "metadata": {
    "slideshow": {
     "slide_type": "subslide"
    }
   },
   "outputs": [
    {
     "name": "stdout",
     "output_type": "stream",
     "text": [
      "[100%] Built target ldprofile\r\n"
     ]
    }
   ],
   "source": [
    "# Build the library\n",
    "!make -j"
   ]
  },
  {
   "cell_type": "markdown",
   "metadata": {
    "slideshow": {
     "slide_type": "subslide"
    }
   },
   "source": [
    "Let's have a look on the `CMakeLists.txt` file:\n",
    "```CMake\n",
    "cmake_minimum_required( VERSION 3.8 )\n",
    "project( libldprofile-ctypes VERSION 1.0.0 LANGUAGES CXX C\n",
    "         DESCRIPTION \"python bindings for ldprofile demo library using ctypes\" )\n",
    "\n",
    "# ------------------------------------------------------------------------------\n",
    "# define headers and sources\n",
    "\n",
    "set( LDPROFILE_HEADERS # .......\n",
    ")\n",
    "\n",
    "set( LDPROFILE_SOURCES # ...... \n",
    ")\n",
    "\n",
    "# ------------------------------------------------------------------------------\n",
    "# build library\n",
    "\n",
    "if( SKBUILD ) # SKBUILD is set if the build process is run via setup.py\n",
    "    find_package( PythonInterp 3.6 REQUIRED )\n",
    "    find_package( PythonLibs 3.6 REQUIRED )\n",
    "    find_package( PythonExtensions REQUIRED ) \n",
    "\n",
    "    add_library( ldprofile MODULE   # NOTE: MODULE instead of SHARED\n",
    "        ${LDPROFILE_HEADERS} ${LDPROFILE_SOURCES} )\n",
    "else() # \"Regular\" C/C++ work-flow\n",
    "    add_library( ldprofile SHARED\n",
    "        ${LDPROFILE_HEADERS} ${LDPROFILE_SOURCES} )\n",
    "endif()\n",
    "\n",
    "target_include_directories( ldprofile\n",
    "    PUBLIC $<BUILD_INTERFACE:${CMAKE_SOURCE_DIR}/src> )\n",
    "\n",
    "set_target_properties( ldprofile PROPERTIES\n",
    "    LINKER_LANGUAGE C POSITION_INDEPENDENT_CODE ON CXX_STANDARD 11\n",
    "    CXX_STANDARD_REQUIRED ON )\n",
    "\n",
    "if( NOT SKBUILD )\n",
    "    target_include_directories( ldprofile\n",
    "        PUBLIC $<INSTALL_INTERFACE:${CMAKE_INSTALL_INCLUDEDIR}> )\n",
    "endif()\n",
    "\n",
    "# ------------------------------------------------------------------------------\n",
    "# handle installation - ldprofile_ctypes is the name of the resulting python \n",
    "# package\n",
    "\n",
    "install( TARGETS ldprofile LIBRARY DESTINATION \"ldprofile_ctypes\" )\n",
    "``` "
   ]
  },
  {
   "cell_type": "markdown",
   "metadata": {
    "slideshow": {
     "slide_type": "subslide"
    }
   },
   "source": [
    "The files comprising the object oriented python API are located in the `ldprofile_ctypes` subfolder. In addition to the `__init__.py` file, we have\n",
    "\n",
    "- `library_helpers.py` &rightarrow; infrastructure for handling the dynamic library (cf. above)\n",
    "- `ct_api.py` &rightarrow; provide handles for all exposed C-API methods\n",
    "- `profile.py` &rightarrow; Implement the class Hierarchy in terms of the C-API"
   ]
  },
  {
   "cell_type": "markdown",
   "metadata": {
    "slideshow": {
     "slide_type": "fragment"
    }
   },
   "source": [
    "From `ct_api.py`:\n",
    "\n",
    "```Python\n",
    "# - - - - - - - - - - - - - - - - - - - - - - - - - - - - - - - - - - - - - - -\n",
    "# base_profile.h:\n",
    "\n",
    "ptr_LDProfile_ct = ct.c_void_p # LDProfile is not a POD / C-Style class -> void*\n",
    "LDProfile_NULL = ct.cast( 0, ptr_LDProfile_ct )\n",
    "\n",
    "LDProfile_delete_ct = def_c_function(\n",
    "    ldprofilelib, None, \"LDProfile_delete\", ptr_LDProfile_ct, )\n",
    "\n",
    "LDProfile_method_ct = def_c_function(\n",
    "    ldprofilelib, ld_method_type_ct, \"LDProfile_method\", ptr_LDProfile_ct, )\n",
    "\n",
    "LDProfile_evaluate_ct  = def_c_function(\n",
    "    ldprofilelib, ct.c_double, \"LDProfile_evaluate\",\n",
    "    ptr_LDProfile_ct, ct.c_double )\n",
    "\n",
    "# - - - - - - - - - - - - - - - - - - - - - - - - - - - - - - - - - - - - - - -\n",
    "# ld_coasting.h:\n",
    "\n",
    "LDProfile_create_coasting_ct = def_c_function(\n",
    "    ldprofilelib, ptr_LDProfile_ct, \"LDProfileCoasting_create\", ct.c_double, )\n",
    "\n",
    "LDProfile_is_coasting_ct = def_c_function(\n",
    "    ldprofilelib, ct.c_bool, \"LDProfile_is_coasting\", ptr_LDProfile_ct, )\n",
    "\n",
    "LDProfileCoasting_create_ct = LDProfile_create_coasting_ct\n",
    "\n",
    "LDProfileCoasting_value_ct = def_c_function(\n",
    "    ldprofilelib, ct.c_double, \"LDProfileCoasting_value\", ptr_LDProfile_ct, )\n",
    "\n",
    "LDProfileCoasting_update_ct = def_c_function(\n",
    "    ldprofilelib, None, \"LDProfileCoasting_update\", ptr_LDProfile_ct, ct.c_double )\n",
    "``` "
   ]
  },
  {
   "cell_type": "markdown",
   "metadata": {
    "slideshow": {
     "slide_type": "slide"
    }
   },
   "source": [
    "Implementation of the `LDProfileBase` class in `ldprofile_ctypes/profile.py`:\n",
    "\n",
    "```Python\n",
    "class LDProfileBase(object):\n",
    "    def __init__(self, ptr_base=LDProfile_NULL, owns_ptr=True):\n",
    "        assert ptr_base != LDProfile_NULL\n",
    "        self._ptr_base = ptr_base\n",
    "        self._owns_ptr = owns_ptr\n",
    "\n",
    "    def __del__(self):\n",
    "        if self._ptr_base != LDProfile_NULL and self._owns_ptr:\n",
    "            LDProfile_delete_ct( self._ptr_base )\n",
    "\n",
    "    @property\n",
    "    def owns_ptr(self):\n",
    "        return self._owns_ptr\n",
    "\n",
    "    @property\n",
    "    def pointer(self):\n",
    "        return self._ptr_base\n",
    "\n",
    "    @property\n",
    "    def method(self):\n",
    "        return LDProfile_method_ct(self._ptr_base)\n",
    "\n",
    "    @overload\n",
    "    def evaluate(self, z: float) -> float: ...\n",
    "\n",
    "    @overload\n",
    "    def evaluate(self, z_vec: List[float]) -> np.array: ...\n",
    "\n",
    "    def evaluate(self, z):\n",
    "        if isinstance( z, float):\n",
    "            return LDProfile_evaluate_ct( self._ptr_base, ct.c_double(z) )\n",
    "        else:\n",
    "            return np.array(\n",
    "                [ LDProfile_evaluate_ct( self._ptr_base, ct.c_double(zz) )\n",
    "                  for zz in z ], dtype=np.float64 )\n",
    "```"
   ]
  },
  {
   "cell_type": "markdown",
   "metadata": {
    "slideshow": {
     "slide_type": "subslide"
    }
   },
   "source": [
    "Implementation of the `CoastingLDProfile` class in `ldprofile_ctypes/profile.py`:\n",
    "    \n",
    "```Python\n",
    "class CoastingLDProfile( LDProfileBase ):\n",
    "    def __init__(self, value: float=0.0):\n",
    "        ptr_base = LDProfileCoasting_create_ct( ct.c_double(value))\n",
    "        super().__init__(ptr_base=ptr_base, owns_ptr=True)\n",
    "\n",
    "    @property\n",
    "    def value( self ):\n",
    "        return LDProfileCoasting_value_ct( self.pointer )\n",
    "\n",
    "    def update( self, new_value: float ):\n",
    "        LDProfileCoasting_update_ct( self.pointer, ct.c_double( new_value))\n",
    "``` "
   ]
  },
  {
   "cell_type": "markdown",
   "metadata": {
    "slideshow": {
     "slide_type": "subslide"
    }
   },
   "source": [
    "The `setup.py` file is rather minimal, thanks to the integration with cmake provided by `scikit-build`:\n",
    "\n",
    "```Python\n",
    "from skbuild import setup\n",
    "# ....\n",
    "setup(\n",
    "    name=\"ldprofile_ctypes\",\n",
    "    version=\"1.0.0\",\n",
    "    description=\"python bindings for libldprofile, using scikit-build and ctypes\",\n",
    "    author=\"Martin Schwinzerl\",\n",
    "    license=\"MIT\",\n",
    "    packages=['ldprofile_ctypes'],\n",
    "    package_data={'ldprofile_ctypes': [ _get_library_name(\"*\"), ] },\n",
    "    install_requires=['numpy', 'matplotlib'],\n",
    "    #cmake_args=['-DCMAKE_BUILD_TYPE=Debug',]\n",
    ")\n",
    "``` "
   ]
  },
  {
   "cell_type": "code",
   "execution_count": 14,
   "metadata": {
    "slideshow": {
     "slide_type": "subslide"
    }
   },
   "outputs": [
    {
     "name": "stdout",
     "output_type": "stream",
     "text": [
      "Obtaining file:///home/martin/temp/pyhep2020/pyhep2020-cxx-bindings/01_ldprofile_ctypes\n",
      "  Installing build dependencies ... \u001b[?25ldone\n",
      "\u001b[?25h  Getting requirements to build wheel ... \u001b[?25ldone\n",
      "\u001b[?25h    Preparing wheel metadata ... \u001b[?25ldone\n",
      "\u001b[?25hRequirement already satisfied: numpy in /home/martin/.conda/envs/pyhep2020_presentation/lib/python3.8/site-packages (from ldprofile-ctypes==1.0.0) (1.18.5)\n",
      "Requirement already satisfied: matplotlib in /home/martin/.conda/envs/pyhep2020_presentation/lib/python3.8/site-packages (from ldprofile-ctypes==1.0.0) (3.2.2)\n",
      "Requirement already satisfied: python-dateutil>=2.1 in /home/martin/.conda/envs/pyhep2020_presentation/lib/python3.8/site-packages (from matplotlib->ldprofile-ctypes==1.0.0) (2.8.1)\n",
      "Requirement already satisfied: pyparsing!=2.0.4,!=2.1.2,!=2.1.6,>=2.0.1 in /home/martin/.conda/envs/pyhep2020_presentation/lib/python3.8/site-packages (from matplotlib->ldprofile-ctypes==1.0.0) (2.4.7)\n",
      "Requirement already satisfied: cycler>=0.10 in /home/martin/.conda/envs/pyhep2020_presentation/lib/python3.8/site-packages (from matplotlib->ldprofile-ctypes==1.0.0) (0.10.0)\n",
      "Requirement already satisfied: kiwisolver>=1.0.1 in /home/martin/.conda/envs/pyhep2020_presentation/lib/python3.8/site-packages (from matplotlib->ldprofile-ctypes==1.0.0) (1.2.0)\n",
      "Requirement already satisfied: six>=1.5 in /home/martin/.conda/envs/pyhep2020_presentation/lib/python3.8/site-packages (from python-dateutil>=2.1->matplotlib->ldprofile-ctypes==1.0.0) (1.15.0)\n",
      "Installing collected packages: ldprofile-ctypes\n",
      "  Running setup.py develop for ldprofile-ctypes\n",
      "\u001b[31m    ERROR: Command errored out with exit status 1:\n",
      "     command: /home/martin/.conda/envs/pyhep2020_presentation/bin/python -c 'import sys, setuptools, tokenize; sys.argv[0] = '\"'\"'/home/martin/temp/pyhep2020/pyhep2020-cxx-bindings/01_ldprofile_ctypes/setup.py'\"'\"'; __file__='\"'\"'/home/martin/temp/pyhep2020/pyhep2020-cxx-bindings/01_ldprofile_ctypes/setup.py'\"'\"';f=getattr(tokenize, '\"'\"'open'\"'\"', open)(__file__);code=f.read().replace('\"'\"'\\r\\n'\"'\"', '\"'\"'\\n'\"'\"');f.close();exec(compile(code, __file__, '\"'\"'exec'\"'\"'))' develop --no-deps\n",
      "         cwd: /home/martin/temp/pyhep2020/pyhep2020-cxx-bindings/01_ldprofile_ctypes/\n",
      "    Complete output (69 lines):\n",
      "    Not searching for unused variables given on the command line.\n",
      "    -- The C compiler identification is GNU 7.5.0\n",
      "    -- Detecting C compiler ABI info\n",
      "    -- Detecting C compiler ABI info - done\n",
      "    -- Check for working C compiler: /usr/bin/cc - skipped\n",
      "    -- Detecting C compile features\n",
      "    -- Detecting C compile features - done\n",
      "    -- The CXX compiler identification is GNU 7.5.0\n",
      "    -- Detecting CXX compiler ABI info\n",
      "    -- Detecting CXX compiler ABI info - done\n",
      "    -- Check for working CXX compiler: /usr/bin/c++ - skipped\n",
      "    -- Detecting CXX compile features\n",
      "    -- Detecting CXX compile features - done\n",
      "    -- Configuring done\n",
      "    -- Generating done\n",
      "    -- Build files have been written to: /home/martin/temp/pyhep2020/pyhep2020-cxx-bindings/01_ldprofile_ctypes/_cmake_test_compile/build\n",
      "    CMake Error at CMakeLists.txt:2 (project):\n",
      "      Running\n",
      "    \n",
      "       '/tmp/pip-build-env-8pjo4dqe/overlay/bin/ninja' '--version'\n",
      "    \n",
      "      failed with:\n",
      "    \n",
      "       No such file or directory\n",
      "    \n",
      "    \n",
      "    -- Configuring incomplete, errors occurred!\n",
      "    See also \"/home/martin/temp/pyhep2020/pyhep2020-cxx-bindings/01_ldprofile_ctypes/_skbuild/linux-x86_64-3.8/cmake-build/CMakeFiles/CMakeOutput.log\".\n",
      "      File \"/tmp/pip-build-env-i_987lbf/overlay/lib/python3.8/site-packages/skbuild/setuptools_wrap.py\", line 582, in setup\n",
      "        env = cmkr.configure(cmake_args,\n",
      "      File \"/tmp/pip-build-env-i_987lbf/overlay/lib/python3.8/site-packages/skbuild/cmaker.py\", line 229, in configure\n",
      "        raise SKBuildError(\n",
      "    An error occurred while configuring with CMake.\n",
      "      Command:\n",
      "        cmake /home/martin/temp/pyhep2020/pyhep2020-cxx-bindings/01_ldprofile_ctypes -G Ninja -DCMAKE_INSTALL_PREFIX:PATH=/home/martin/temp/pyhep2020/pyhep2020-cxx-bindings/01_ldprofile_ctypes/_skbuild/linux-x86_64-3.8/cmake-install -DPYTHON_EXECUTABLE:FILEPATH=/home/martin/.conda/envs/pyhep2020_presentation/bin/python -DPYTHON_VERSION_STRING:STRING=3.8.3 -DPYTHON_INCLUDE_DIR:PATH=/home/martin/.conda/envs/pyhep2020_presentation/include/python3.8 -DPYTHON_LIBRARY:FILEPATH=/home/martin/.conda/envs/pyhep2020_presentation/lib/libpython3.8.so -DSKBUILD:BOOL=TRUE -DCMAKE_MODULE_PATH:PATH=/tmp/pip-build-env-i_987lbf/overlay/lib/python3.8/site-packages/skbuild/resources/cmake -DCMAKE_BUILD_TYPE:STRING=Release\n",
      "      Source directory:\n",
      "        /home/martin/temp/pyhep2020/pyhep2020-cxx-bindings/01_ldprofile_ctypes\n",
      "      Working directory:\n",
      "        /home/martin/temp/pyhep2020/pyhep2020-cxx-bindings/01_ldprofile_ctypes/_skbuild/linux-x86_64-3.8/cmake-build\n",
      "    Please see CMake's output for more information.\n",
      "    \n",
      "    \n",
      "    --------------------------------------------------------------------------------\n",
      "    -- Trying \"Ninja\" generator\n",
      "    --------------------------------\n",
      "    ---------------------------\n",
      "    ----------------------\n",
      "    -----------------\n",
      "    ------------\n",
      "    -------\n",
      "    --\n",
      "    --\n",
      "    -------\n",
      "    ------------\n",
      "    -----------------\n",
      "    ----------------------\n",
      "    ---------------------------\n",
      "    --------------------------------\n",
      "    -- Trying \"Ninja\" generator - success\n",
      "    --------------------------------------------------------------------------------\n",
      "    \n",
      "    Configuring Project\n",
      "      Working directory:\n",
      "        /home/martin/temp/pyhep2020/pyhep2020-cxx-bindings/01_ldprofile_ctypes/_skbuild/linux-x86_64-3.8/cmake-build\n",
      "      Command:\n",
      "        cmake /home/martin/temp/pyhep2020/pyhep2020-cxx-bindings/01_ldprofile_ctypes -G Ninja -DCMAKE_INSTALL_PREFIX:PATH=/home/martin/temp/pyhep2020/pyhep2020-cxx-bindings/01_ldprofile_ctypes/_skbuild/linux-x86_64-3.8/cmake-install -DPYTHON_EXECUTABLE:FILEPATH=/home/martin/.conda/envs/pyhep2020_presentation/bin/python -DPYTHON_VERSION_STRING:STRING=3.8.3 -DPYTHON_INCLUDE_DIR:PATH=/home/martin/.conda/envs/pyhep2020_presentation/include/python3.8 -DPYTHON_LIBRARY:FILEPATH=/home/martin/.conda/envs/pyhep2020_presentation/lib/libpython3.8.so -DSKBUILD:BOOL=TRUE -DCMAKE_MODULE_PATH:PATH=/tmp/pip-build-env-i_987lbf/overlay/lib/python3.8/site-packages/skbuild/resources/cmake -DCMAKE_BUILD_TYPE:STRING=Release\n",
      "    \n",
      "    Traceback (most recent call last):\n",
      "    \n",
      "    ----------------------------------------\u001b[0m\n",
      "\u001b[31mERROR: Command errored out with exit status 1: /home/martin/.conda/envs/pyhep2020_presentation/bin/python -c 'import sys, setuptools, tokenize; sys.argv[0] = '\"'\"'/home/martin/temp/pyhep2020/pyhep2020-cxx-bindings/01_ldprofile_ctypes/setup.py'\"'\"'; __file__='\"'\"'/home/martin/temp/pyhep2020/pyhep2020-cxx-bindings/01_ldprofile_ctypes/setup.py'\"'\"';f=getattr(tokenize, '\"'\"'open'\"'\"', open)(__file__);code=f.read().replace('\"'\"'\\r\\n'\"'\"', '\"'\"'\\n'\"'\"');f.close();exec(compile(code, __file__, '\"'\"'exec'\"'\"'))' develop --no-deps Check the logs for full command output.\u001b[0m\n"
     ]
    }
   ],
   "source": [
    "# Lets install the ldprofile_ctypes package in the editable / developer mode, i.e. \n",
    "\n",
    "os.chdir(initial_wd)\n",
    "os.chdir( '01_ldprofile_ctypes')\n",
    "!pip install -e ."
   ]
  },
  {
   "cell_type": "code",
   "execution_count": 15,
   "metadata": {
    "slideshow": {
     "slide_type": "subslide"
    }
   },
   "outputs": [
    {
     "data": {
      "text/plain": [
       "[<matplotlib.lines.Line2D at 0x7f4ec6a657f0>]"
      ]
     },
     "execution_count": 15,
     "metadata": {},
     "output_type": "execute_result"
    },
    {
     "data": {
      "image/png": "[encoded data removed]",
      "text/plain": [
       "<Figure size 432x288 with 1 Axes>"
      ]
     },
     "metadata": {
      "needs_background": "light"
     },
     "output_type": "display_data"
    }
   ],
   "source": [
    "# Let's use the package:\n",
    "from ldprofile_ctypes import QGaussianLDProfile\n",
    "\n",
    "q35 = QGaussianLDProfile(3.0/5.0, 0.01)\n",
    "z = np.linspace( -30.0, 30.0, 10000, dtype=np.float64 )\n",
    "plt.plot( z, q35.evaluate(z) )"
   ]
  },
  {
   "cell_type": "markdown",
   "metadata": {
    "slideshow": {
     "slide_type": "slide"
    }
   },
   "source": [
    "## Closing thoughts on using <tt>ctypes</tt> for a fully fledged OO interface\n",
    "- It works!\n",
    "- But: The whole OO API from C++ has to be duplicated\n",
    "- Resource Management explicit (cf. `__del__`!) &rightarrow; no `RAII`\n",
    "- We have to juggle a lot of untyped (void*) pointers around &rightarrow; difficult to debug\n",
    "- If we want to keep the C++ and OO Python API similar, we have to keep 3 code-bases in sync &rightarrow; not scalable solution\n",
    "\n",
    "<b>Note:</b>This approach is currently taken by <tt>SixTrackLib</tt> due to historic reasons. We are actively working on moving away from this implementation"
   ]
  },
  {
   "cell_type": "markdown",
   "metadata": {
    "slideshow": {
     "slide_type": "slide"
    }
   },
   "source": [
    "# Alternative: Using <tt>pybind11</tt> + <tt>scikit-build</tt> \n",
    "\n",
    "<a href=\"https://github.com/pybind/pybind11\">pybind11</a> provides seamless operability between C++11 and Python</a>\n",
    "\n",
    "- Idea: write strongly typed wrapper code in C++ and use compile-time introspection to keep the amount of boilerplate code minimal\n",
    "- relies in \"modern\" > C++11\n",
    "- maps one type in C++ to one type in Python, i.e. generic code has to be specialized\n",
    "- integrates well with scikit-build"
   ]
  },
  {
   "cell_type": "code",
   "execution_count": 16,
   "metadata": {
    "slideshow": {
     "slide_type": "subslide"
    }
   },
   "outputs": [
    {
     "name": "stdout",
     "output_type": "stream",
     "text": [
      "02_ldprofile_pybind11/\n",
      "    .gitignore\n",
      "    CMakeLists.txt\n",
      "    setup.py\n",
      "    pyproject.toml\n",
      "    src/\n",
      "        CMakeLists.txt\n",
      "        wrap/\n",
      "            CMakeLists.txt\n",
      "            ldprofile_wrap.hpp\n",
      "            ldprofile_wrap.cpp\n",
      "            __init__.py\n",
      "        ldprofile/\n",
      "            qgauss.h\n",
      "            base_profile.h\n",
      "            CMakeLists.txt\n",
      "            ld_lin_interpol.h\n",
      "            base_profile.cpp\n",
      "            ld_qgauss.cpp\n",
      "            ld_coasting.h\n",
      "            profile.cpp\n",
      "            ldprofile.h\n",
      "            ld_qgauss.h\n",
      "            ld_lin_interpol.cpp\n",
      "            definitions.h\n",
      "            profile.h\n",
      "            ld_coasting.cpp\n",
      "            qgauss.cpp\n",
      "    cmake/\n",
      "        SetupPybind11.cmake\n",
      "        SetupPybind11CMakeLists.txt.in\n",
      "        Findpybind11.cmake\n",
      "    examples/\n",
      "        plot_profiles.py\n",
      "        qgauss_dbl_harmonic_data.pkl\n"
     ]
    }
   ],
   "source": [
    "os.chdir( initial_wd )\n",
    "list_dir_tree( './02_ldprofile_pybind11', allow=[\"src\", \"ldprofile\", \"wrap\", \"examples\", \"cmake\" ] )"
   ]
  },
  {
   "cell_type": "markdown",
   "metadata": {
    "slideshow": {
     "slide_type": "subslide"
    }
   },
   "source": [
    "The C++ core library is unchanged compared to the previous example. The bindings are provided by \n",
    "\n",
    "- `src/wrap/ldprofile_wrap.hpp` generic functions for setting up the bindings for the template types\n",
    "- `src/wrap/ldprofile_wrap.cpp` defining the module, encoding the class relationship between the types, specialisation of the generic types\n",
    "- `src/wrap/CMakeList.txt` build logic \n",
    "\n"
   ]
  },
  {
   "cell_type": "markdown",
   "metadata": {
    "slideshow": {
     "slide_type": "subslide"
    }
   },
   "source": [
    "`src/wrap/ldprofile_wrap.cpp`:\n",
    "    \n",
    "```C++\n",
    "#include \"ldprofile_wrap.hpp\"\n",
    "\n",
    "namespace\n",
    "{\n",
    "    namespace py = pybind11;\n",
    "    namespace ld = ldprofile;\n",
    "    namespace ldpy = ldprofile::python;\n",
    "}\n",
    "\n",
    "PYBIND11_MODULE( ldprofile_pybind11, m )\n",
    "{\n",
    "    // m ... ldprofile_pybind11 module\n",
    "    m.doc() = \"ldprofile python bindings generated using pybind11\";\n",
    "    \n",
    "    /* For double precision */\n",
    "    using base_profile_t = ld::TLineDensityProfileBase< double >;\n",
    "    using c_profile_t = ld::TCoastingLDProfile< double >;\n",
    "    using q_profile_t = ld::QGaussianLDProfile< double >;\n",
    "    using l_profile_t = ld::TLinInterpolLDProfile< double >;\n",
    "    \n",
    "    /* Model the class hierarchy */\n",
    "    py::class_< base_profile_t > base_profile_obj( m, \"LDProfileBase\" );\n",
    "    \n",
    "    py::class_< c_profile_t > c_profile_obj( m, \"CoastingLDProfile\", base_profile_obj );\n",
    "    py::class_< q_profile_t > q_profile_obj( m, \"QGaussLDProfile\", base_profile_obj );\n",
    "    py::class_< l_profile_t > l_profile_obj( m, \"LinInterpolLDProfile\", base_profile_obj );\n",
    "    \n",
    "    /* call the binding generation functions for the specific types */\n",
    "    ldpy::Create_bindings_base_profile< double >( m, base_profile_obj );\n",
    "    ldpy::Create_bindings_coasting_profile< double >( m, c_profile_obj );\n",
    "    ldpy::Create_bindings_qgauss_profile< double >( m, q_profile_obj );\n",
    "    ldpy::Create_bindings_lin_interpol_profile< double >( m, l_profile_obj );\n",
    "}\n",
    "```"
   ]
  },
  {
   "cell_type": "markdown",
   "metadata": {
    "slideshow": {
     "slide_type": "subslide"
    }
   },
   "source": [
    "`src/wrap/ldprofile_wrap.hpp`:\n",
    "\n",
    "```C++\n",
    "#ifndef LDPROFILE_PYBIND11_LDPROFILE_WRAP_CXX_HPP__\n",
    "#define LDPROFILE_PYBIND11_LDPROFILE_WRAP_CXX_HPP__\n",
    "\n",
    "#include <pybind11/pybind11.h>\n",
    "#include <pybind11/numpy.h>\n",
    "\n",
    "#include <stdexcept>\n",
    "#include <vector>\n",
    "#include <iostream>\n",
    "\n",
    "// NOTE: correct include path from target_link_libary with ldprofilecore\n",
    "#include \"ldprofile/ldprofile.h\"\n",
    "\n",
    "namespace ldprofile\n",
    "{\n",
    "namespace python\n",
    "{\n",
    "    template< class T >\n",
    "    void Create_bindings_coasting_profile( pybind11::module& m,\n",
    "        pybind11::class_< ldprofile::TCoastingLDProfile< T > >& cls )\n",
    "    {\n",
    "        namespace py = pybind11;\n",
    "        namespace ld = ldprofile;\n",
    "\n",
    "        using coasting_profile_t = ld::TCoastingLDProfile< T >;\n",
    "        using value_t = typename coasting_profile_t::value_type;\n",
    "\n",
    "        // Constructor -> we can define our own default arguments which\n",
    "        // can differ from the defaults in C++!\n",
    "\n",
    "        cls.def( py::init(\n",
    "            []( value_t const& ld_value )\n",
    "            {\n",
    "                // use make_unique if available!\n",
    "                return std::unique_ptr< coasting_profile_t >(\n",
    "                    new coasting_profile_t( ld_value ) );\n",
    "            } ),\n",
    "            py::arg( \"value\" ) = value_t{ 42 } );\n",
    "        \n",
    "        // ...\n",
    "    }\n",
    "```"
   ]
  },
  {
   "cell_type": "markdown",
   "metadata": {
    "slideshow": {
     "slide_type": "subslide"
    }
   },
   "source": [
    "```C++\n",
    "// ... \n",
    "//getter methods -> @property \n",
    "cls.def_property_readonly( \"q\", &qgauss_profile_t::q );\n",
    "cls.def_property_readonly( \"sqrt_beta\", &qgauss_profile_t::sqrt_beta );\n",
    "cls.def_property_readonly( \"cq\", &qgauss_profile_t::cq );\n",
    "// ...\n",
    "// Overloading methods by casting to the member function pointer (pre C++14 notation)\n",
    "cls.def( \"update\", ( void ( qgauss_profile_t::* )( value_t const& )\n",
    "             )&qgauss_profile_t::update,\n",
    "         \"update profile with a gaussian distribution\",\n",
    "         py::arg( \"sigma\" ) = 1.0 );\n",
    "\n",
    "cls.def( \"update\", ( void ( qgauss_profile_t::* )(\n",
    "             value_t const&, value_t const& ) )&qgauss_profile_t::update,\n",
    "         \"update profile with a q-gaussian distribution\",\n",
    "         py::arg( \"q\" ), py::arg( \"sqrt_beta\" ) );\n",
    "```"
   ]
  },
  {
   "cell_type": "markdown",
   "metadata": {
    "slideshow": {
     "slide_type": "fragment"
    }
   },
   "source": [
    "```C++\n",
    "// ...\n",
    "// Overloading methods, version 2:\n",
    "\n",
    "cls.def( \"update\",\n",
    "    []( lin_profile_t& instance, value_t const& z0,\n",
    "        value_t const& dz, size_t const num_values )\n",
    "    {\n",
    "        instance.update( z0, dz, num_values );\n",
    "    },\n",
    "    \"updates the instance, changes the size to num_values and sets all values to 0\",\n",
    "    py::arg(\"z0\"), py::arg( \"dz\" ), py::arg( \"num_values\" ) );\n",
    "\n",
    "cls.def( \"update\",\n",
    "    []( lin_profile_t& instance, value_t const& z0,\n",
    "        value_t const& dz, py::buffer values )\n",
    "    {\n",
    "        py::buffer_info values_info = values.request();\n",
    "\n",
    "        if( values_info.ndim != 1 )\n",
    "            throw std::runtime_error( \"values.ndim != 1\" );\n",
    "\n",
    "        instance.update( z0, dz,\n",
    "            values_info.shape[ 0 ] * values_info.shape[ 1 ],\n",
    "                 static_cast< value_t const* >( values_info.ptr ) );\n",
    "    },\n",
    "    \"updates the instance, with new values; resizes as required\",\n",
    "    py::arg(\"z0\") = value_t{ 0 },\n",
    "    py::arg( \"dz\" ) = value_t{ 1 },\n",
    "    py::arg( \"values\" ) = py::array_t< value_t >{} );\n",
    "\n",
    "// ...\n",
    "```"
   ]
  },
  {
   "cell_type": "markdown",
   "metadata": {
    "slideshow": {
     "slide_type": "subslide"
    }
   },
   "source": [
    "`src/wrap/CMakeLists.txt`\n",
    "\n",
    "Not shown here for time reasons: pybind11 can be downloaded and setup during the configuration process by `cmake`. It is also rather light on dependencies (c++11 compiler required) -> very convenient! \n",
    "\n",
    "```CMake\n",
    "if( NOT pybind11_FOUND )\n",
    "    message( FATAL_ERROR \"We positively need pybind11 for the bindings to work!\" )\n",
    "endif()\n",
    "\n",
    "set( LDPROFILE_PYBIND11_HEADERS ldprofile_wrap.hpp )\n",
    "set( LDPROFILE_PYBIND11_SOURCES ldprofile_wrap.cpp )\n",
    "\n",
    "pybind11_add_module( ldprofile_pybind11 MODULE\n",
    "    ${LDPROFILE_PYBIND11_HEADERS} ${LDPROFILE_PYBIND11_SOURCES} )\n",
    "\n",
    "# include paths, definitions, etc. should be passed on transitiently from\n",
    "# ldprofilecore:\n",
    "\n",
    "target_link_libraries( ldprofile_pybind11 PRIVATE ldprofilecore )\n",
    "\n",
    "file( COPY \"${CMAKE_CURRENT_SOURCE_DIR}/__init__.py\"\n",
    "      DESTINATION ${CMAKE_CURRENT_BINARY_DIR} )\n",
    "\n",
    "install( TARGETS ldprofile_pybind11 DESTINATION \"ldprofile_pybind11\" )\n",
    "install( FILES __init__.py DESTINATION \"ldprofile_pybind11\" )\n",
    "``` "
   ]
  },
  {
   "cell_type": "markdown",
   "metadata": {
    "slideshow": {
     "slide_type": "subslide"
    }
   },
   "source": [
    "The `scikit-build` based `setup.py` file is very similar to the previous example:\n",
    "\n",
    "```Python\n",
    "from skbuild import setup\n",
    "# ...\n",
    "\n",
    "setup(\n",
    "    name=\"ldprofile_pybind11\",\n",
    "    version=\"1.0.0\",\n",
    "    description=\"python bindings for ldprofile, using scikit-build and pybind11\",\n",
    "    author=\"Martin Schwinzerl\",\n",
    "    license=\"MIT\",\n",
    "    packages=['ldprofile_pybind11'],\n",
    "    package_data={'ldprofile_pybind11': [_get_library_name(\"*\")] },\n",
    "    install_requires=['numpy'],\n",
    "    #cmake_args=['-DCMAKE_BUILD_TYPE=Debug',]\n",
    ")\n",
    "``` \n",
    "\n",
    "and complements the minimal `__init__.py` from the `src/wrap` directory:\n",
    "\n",
    "```Python\n",
    "from .ldprofile_pybind11 import CoastingLDProfile, QGaussianLDProfile, LinInterpolLDProfile\n",
    "```"
   ]
  },
  {
   "cell_type": "code",
   "execution_count": 17,
   "metadata": {
    "slideshow": {
     "slide_type": "subslide"
    }
   },
   "outputs": [
    {
     "name": "stderr",
     "output_type": "stream",
     "text": [
      "/home/martin/.conda/envs/pyhep2020_presentation/lib/python3.8/site-packages/setuptools/distutils_patch.py:25: UserWarning: Distutils was imported before Setuptools. This usage is discouraged and may exhibit undesirable behaviors or errors. Please use Setuptools' objects directly or at least import Setuptools first.\n",
      "  warnings.warn(\n"
     ]
    },
    {
     "name": "stdout",
     "output_type": "stream",
     "text": [
      "copying _skbuild/linux-x86_64-3.8/cmake-install/ldprofile_pybind11/ldprofile_pybind11.cpython-38-x86_64-linux-gnu.so -> ldprofile_pybind11/ldprofile_pybind11.cpython-38-x86_64-linux-gnu.so\n",
      "copying _skbuild/linux-x86_64-3.8/cmake-install/ldprofile_pybind11/__init__.py -> ldprofile_pybind11/__init__.py\n",
      "\n",
      "running develop\n",
      "running egg_info\n",
      "writing ldprofile_pybind11.egg-info/PKG-INFO\n",
      "writing dependency_links to ldprofile_pybind11.egg-info/dependency_links.txt\n",
      "writing requirements to ldprofile_pybind11.egg-info/requires.txt\n",
      "writing top-level names to ldprofile_pybind11.egg-info/top_level.txt\n",
      "reading manifest file 'ldprofile_pybind11.egg-info/SOURCES.txt'\n",
      "writing manifest file 'ldprofile_pybind11.egg-info/SOURCES.txt'\n",
      "running build_ext\n",
      "Creating /home/martin/.conda/envs/pyhep2020_presentation/lib/python3.8/site-packages/ldprofile-pybind11.egg-link (link to .)\n",
      "Adding ldprofile-pybind11 1.0.0 to easy-install.pth file\n",
      "\n",
      "Installed /home/martin/temp/pyhep2020/pyhep2020-cxx-bindings/02_ldprofile_pybind11\n",
      "Processing dependencies for ldprofile-pybind11==1.0.0\n",
      "Searching for matplotlib==3.2.2\n",
      "Best match: matplotlib 3.2.2\n",
      "Adding matplotlib 3.2.2 to easy-install.pth file\n",
      "\n",
      "Using /home/martin/.conda/envs/pyhep2020_presentation/lib/python3.8/site-packages\n",
      "Searching for numpy==1.18.5\n",
      "Best match: numpy 1.18.5\n",
      "Adding numpy 1.18.5 to easy-install.pth file\n",
      "Installing f2py script to /home/martin/.conda/envs/pyhep2020_presentation/bin\n",
      "Installing f2py3 script to /home/martin/.conda/envs/pyhep2020_presentation/bin\n",
      "Installing f2py3.8 script to /home/martin/.conda/envs/pyhep2020_presentation/bin\n",
      "\n",
      "Using /home/martin/.conda/envs/pyhep2020_presentation/lib/python3.8/site-packages\n",
      "Searching for kiwisolver==1.2.0\n",
      "Best match: kiwisolver 1.2.0\n",
      "Adding kiwisolver 1.2.0 to easy-install.pth file\n",
      "\n",
      "Using /home/martin/.conda/envs/pyhep2020_presentation/lib/python3.8/site-packages\n",
      "Searching for pyparsing==2.4.7\n",
      "Best match: pyparsing 2.4.7\n",
      "Adding pyparsing 2.4.7 to easy-install.pth file\n",
      "\n",
      "Using /home/martin/.conda/envs/pyhep2020_presentation/lib/python3.8/site-packages\n",
      "Searching for cycler==0.10.0\n",
      "Best match: cycler 0.10.0\n",
      "Adding cycler 0.10.0 to easy-install.pth file\n",
      "\n",
      "Using /home/martin/.conda/envs/pyhep2020_presentation/lib/python3.8/site-packages\n",
      "Searching for python-dateutil==2.8.1\n",
      "Best match: python-dateutil 2.8.1\n",
      "Adding python-dateutil 2.8.1 to easy-install.pth file\n",
      "\n",
      "Using /home/martin/.conda/envs/pyhep2020_presentation/lib/python3.8/site-packages\n",
      "Searching for six==1.15.0\n",
      "Best match: six 1.15.0\n",
      "Adding six 1.15.0 to easy-install.pth file\n",
      "\n",
      "Using /home/martin/.conda/envs/pyhep2020_presentation/lib/python3.8/site-packages\n",
      "Finished processing dependencies for ldprofile-pybind11==1.0.0\n"
     ]
    }
   ],
   "source": [
    "# Let's build the pybind11 based project:\n",
    "\n",
    "os.chdir( initial_wd )\n",
    "os.chdir( '02_ldprofile_pybind11')\n",
    "%run setup.py develop -G \"Unix Makefiles\""
   ]
  },
  {
   "cell_type": "markdown",
   "metadata": {
    "slideshow": {
     "slide_type": "slide"
    }
   },
   "source": [
    "# Example usage of the pybind11 generated bindings"
   ]
  },
  {
   "cell_type": "code",
   "execution_count": 18,
   "metadata": {
    "slideshow": {
     "slide_type": "fragment"
    }
   },
   "outputs": [
    {
     "name": "stdout",
     "output_type": "stream",
     "text": [
      "/home/martin/temp/pyhep2020/pyhep2020-cxx-bindings\n"
     ]
    }
   ],
   "source": [
    "os.chdir( initial_wd )\n",
    "print( initial_wd )\n",
    "import ldprofile_pybind11 as ldp\n"
   ]
  },
  {
   "cell_type": "code",
   "execution_count": 19,
   "metadata": {
    "slideshow": {
     "slide_type": "fragment"
    }
   },
   "outputs": [],
   "source": [
    "q1 = ldp.QGaussianLDProfile(1.0)\n",
    "?q1.evaluate"
   ]
  },
  {
   "cell_type": "code",
   "execution_count": 20,
   "metadata": {
    "slideshow": {
     "slide_type": "fragment"
    }
   },
   "outputs": [
    {
     "data": {
      "image/png": "[encoded data removed]",
      "text/plain": [
       "<Figure size 576x432 with 3 Axes>"
      ]
     },
     "metadata": {
      "needs_background": "light"
     },
     "output_type": "display_data"
    }
   ],
   "source": [
    "%run 02_ldprofile_pybind11/examples/plot_profiles.py"
   ]
  },
  {
   "cell_type": "markdown",
   "metadata": {
    "slideshow": {
     "slide_type": "subslide"
    }
   },
   "source": [
    "## Summary of using <tt>pybind11</tt> for a fully fledged OO interface\n",
    "- Interfacing is done on the C/C++ side &rightarrow; retain strongly typed information, const-ness, etc.\n",
    "- Can be easily integrated with existing C++ projects\n",
    "- Very light on dependencies, little restrictions on compiler and external libraries\n",
    "- Compilation can take time and resources -> splitting into submodules and performing the specialization in separate translation units\n",
    "- Good integration with numpy, buffer protocoll, etc.\n",
    "- Most of the instructions in the bindings creation functions can be autogenerated from a suitable reflection file (if the API has been designed with such a use-case in mind!)\n",
    "- Resulting module library can be quite large &rightarrow; LTO, Optimization, only use the symbols that are really needed"
   ]
  },
  {
   "cell_type": "code",
   "execution_count": null,
   "metadata": {},
   "outputs": [],
   "source": []
  }
 ],
 "metadata": {
  "celltoolbar": "Slideshow",
  "kernelspec": {
   "display_name": "Python 3",
   "language": "python",
   "name": "python3"
  },
  "language_info": {
   "codemirror_mode": {
    "name": "ipython",
    "version": 3
   },
   "file_extension": ".py",
   "mimetype": "text/x-python",
   "name": "python",
   "nbconvert_exporter": "python",
   "pygments_lexer": "ipython3",
   "version": "3.8.3"
  }
 },
 "nbformat": 4,
 "nbformat_minor": 4
}
